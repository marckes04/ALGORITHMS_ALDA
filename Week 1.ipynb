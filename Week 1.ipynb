{
 "cells": [
  {
   "cell_type": "code",
   "execution_count": 1,
   "id": "9132b26f",
   "metadata": {},
   "outputs": [],
   "source": [
    "import pandas"
   ]
  },
  {
   "cell_type": "code",
   "execution_count": 2,
   "id": "eeb92e10",
   "metadata": {},
   "outputs": [],
   "source": [
    "import matplotlib"
   ]
  },
  {
   "cell_type": "code",
   "execution_count": 3,
   "id": "09826864",
   "metadata": {},
   "outputs": [],
   "source": [
    "import random\n",
    "import string"
   ]
  },
  {
   "cell_type": "code",
   "execution_count": 4,
   "id": "4e3b1125",
   "metadata": {},
   "outputs": [],
   "source": [
    "# Excercise 1\n",
    "#Random numbers in interval\n",
    "\n",
    "#Function of random value X initial Value and Y final value.\n",
    "\n",
    "def Excercise1(x,y):\n",
    "    num1 = random.randint(x, y)\n",
    "    return num1"
   ]
  },
  {
   "cell_type": "code",
   "execution_count": 5,
   "id": "d2f4a6d2",
   "metadata": {},
   "outputs": [
    {
     "name": "stdout",
     "output_type": "stream",
     "text": [
      "Insert Initial Value : 10\n",
      "Insert Final Value: 100\n",
      "19\n"
     ]
    }
   ],
   "source": [
    "\n",
    "# Input of values for my last function t1: Initial Value and t2: Final Value\n",
    "\n",
    "t1 = int(input(\"Insert Initial Value : \"))\n",
    "t2 = int(input(\"Insert Final Value: \"))\n",
    "\n",
    "print(Excercise1(t1, t2))"
   ]
  },
  {
   "cell_type": "code",
   "execution_count": 6,
   "id": "01e838a4",
   "metadata": {},
   "outputs": [],
   "source": [
    "#Excercise 2\n",
    "#Random strings from sizes and alphabet\n",
    "\n",
    "def Excercise2(size):\n",
    "    # choose from all lowercase letter\n",
    "    letters = string.ascii_lowercase\n",
    "    result_str = ''.join(random.choice(letters) for i in range(size))\n",
    "    return \"Random string of length\", size, \"is:\", result_str\n"
   ]
  },
  {
   "cell_type": "code",
   "execution_count": 7,
   "id": "5e5c6721",
   "metadata": {},
   "outputs": [
    {
     "name": "stdout",
     "output_type": "stream",
     "text": [
      "Insert a Value: 4\n",
      "('Random string of length', 4, 'is:', 'eurc')\n"
     ]
    }
   ],
   "source": [
    "Result = int(input(\"Insert a Value: \"))\n",
    "\n",
    "print(Excercise2(Result))"
   ]
  },
  {
   "cell_type": "code",
   "execution_count": 8,
   "id": "b9267b80",
   "metadata": {},
   "outputs": [
    {
     "name": "stdout",
     "output_type": "stream",
     "text": [
      "The original dictionary is : {'Mario': 1, 'is': 2, 'the': 3, 'best': 4}\n",
      "The random pair is : ('Mario', 1)\n"
     ]
    }
   ],
   "source": [
    "#Excercise 3\n",
    "\n",
    "# Random string choosing from dictionary file\n",
    "\n",
    "# Get random dictionary pair in dictionary\n",
    "# Using random.choice() + list() + items()\n",
    " \n",
    "# Initialize dictionary\n",
    "test_dict = {'Mario' : 1, 'is' : 2, 'the' : 3, 'best' : 4}\n",
    " \n",
    "# printing original dictionary\n",
    "print(\"The original dictionary is : \" + str(test_dict))\n",
    " \n",
    "# Get random dictionary pair in dictionary\n",
    "# Using random.choice() + list() + items()\n",
    "res = key, val = random.choice(list(test_dict.items()))\n",
    " \n",
    "# printing result\n",
    "print(\"The random pair is : \" + str(res))\n",
    "    \n"
   ]
  },
  {
   "cell_type": "code",
   "execution_count": 9,
   "id": "5157a2a8",
   "metadata": {},
   "outputs": [],
   "source": [
    "#Excercise 4\n",
    "\n",
    "#Random sets of IDs within interval\n",
    "\n",
    "def Excercise4(x1,y2,z3):\n",
    "    \n",
    "    for x in range(x1):\n",
    "        print (random.randint(y2, z3))"
   ]
  },
  {
   "cell_type": "code",
   "execution_count": 10,
   "id": "0d7f1106",
   "metadata": {},
   "outputs": [
    {
     "name": "stdout",
     "output_type": "stream",
     "text": [
      "Insert a Value of ID Repetitions: 5\n",
      "Insert initial value for random interval: 1\n",
      "Insert final value for random interval: 3\n",
      "1\n",
      "1\n",
      "3\n",
      "1\n",
      "3\n"
     ]
    }
   ],
   "source": [
    "R1 = int(input(\"Insert a Value of ID Repetitions: \"))\n",
    "R2 = int(input(\"Insert initial value for random interval: \"))\n",
    "R3 = int(input(\"Insert final value for random interval: \"))\n",
    "        \n",
    "Excercise4(R1,R2,R3)\n"
   ]
  },
  {
   "cell_type": "code",
   "execution_count": 11,
   "id": "90d4dc7f",
   "metadata": {},
   "outputs": [
    {
     "name": "stdout",
     "output_type": "stream",
     "text": [
      "mg1ghRdOiL@gmail.com\n",
      "EH916yVi7m@outlook.com\n",
      "Qs4Ll14Myz@hotmail.com\n",
      "hiuU556pVa@hotmail.com\n",
      "bjPnXSQ0xr@outlook.com\n"
     ]
    }
   ],
   "source": [
    "#Excercise 5\n",
    "\n",
    "# ○\tRandom sets of strings with some conditions\n",
    "#For example: Random valid emails addresses\n",
    "\n",
    "\n",
    "def Excercise5():\n",
    "    # Define the domain list\n",
    "    domains = [\"gmail.com\", \"yahoo.com\", \"hotmail.com\", \"outlook.com\", \"aol.com\"]\n",
    "    \n",
    "    # Choose a random domain from the list\n",
    "    domain = random.choice(domains)\n",
    "    \n",
    "    # Generate a random string of letters and numbers as the username\n",
    "    username = ''.join(random.choices(string.ascii_letters + string.digits, k=10))\n",
    "    \n",
    "    # Combine the username and domain to form the email address\n",
    "    email = username + \"@\" + domain\n",
    "    \n",
    "    return email\n",
    "\n",
    "# Generate 5 random email addresses\n",
    "for i in range(5):\n",
    "    print(Excercise5())"
   ]
  },
  {
   "cell_type": "code",
   "execution_count": 13,
   "id": "9a7fc57a",
   "metadata": {},
   "outputs": [
    {
     "name": "stdout",
     "output_type": "stream",
     "text": [
      "H5FjJBDrLr@colombia.gov.co\n",
      "KwTv3koTE0@colombia.gov.co\n",
      "w6qwduDRoM@colombia.gov.co\n",
      "fX1DCgqbV5@colombia.gov.co\n",
      "jh1vTgvEX8@colombia.gov.co\n"
     ]
    }
   ],
   "source": [
    "#Excercise 6\n",
    "\n",
    "# ○\tRandom sets of strings with some conditions\n",
    "# Random colombian emails addresses\n",
    "\n",
    "\n",
    "def Excercise6():\n",
    "    # Define the domain list\n",
    "    domains = [\"colombia.gov.co\"]\n",
    "    \n",
    "    # Choose a random domain from the list\n",
    "    domain = random.choice(domains)\n",
    "    \n",
    "    # Generate a random string of letters and numbers as the username\n",
    "    username = ''.join(random.choices(string.ascii_letters + string.digits, k=10))\n",
    "    \n",
    "    # Combine the username and domain to form the email address\n",
    "    email = username + \"@\" + domain\n",
    "    \n",
    "    return email\n",
    "\n",
    "# Generate 5 random email addresses\n",
    "for i in range(5):\n",
    "    print(Excercise6())"
   ]
  },
  {
   "cell_type": "code",
   "execution_count": null,
   "id": "4377392c",
   "metadata": {},
   "outputs": [],
   "source": []
  }
 ],
 "metadata": {
  "kernelspec": {
   "display_name": "Python 3 (ipykernel)",
   "language": "python",
   "name": "python3"
  },
  "language_info": {
   "codemirror_mode": {
    "name": "ipython",
    "version": 3
   },
   "file_extension": ".py",
   "mimetype": "text/x-python",
   "name": "python",
   "nbconvert_exporter": "python",
   "pygments_lexer": "ipython3",
   "version": "3.9.7"
  }
 },
 "nbformat": 4,
 "nbformat_minor": 5
}
