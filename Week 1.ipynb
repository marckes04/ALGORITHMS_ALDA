{
 "cells": [
  {
   "cell_type": "code",
   "execution_count": 1,
   "id": "9132b26f",
   "metadata": {},
   "outputs": [],
   "source": [
    "import pandas"
   ]
  },
  {
   "cell_type": "code",
   "execution_count": 2,
   "id": "eeb92e10",
   "metadata": {},
   "outputs": [],
   "source": [
    "import matplotlib"
   ]
  },
  {
   "cell_type": "code",
   "execution_count": 3,
   "id": "09826864",
   "metadata": {},
   "outputs": [],
   "source": [
    "import random\n",
    "import string"
   ]
  },
  {
   "cell_type": "code",
   "execution_count": 4,
   "id": "4e3b1125",
   "metadata": {},
   "outputs": [],
   "source": [
    "# Excercise 1\n",
    "#Random numbers in interval\n",
    "\n",
    "#Function of random value X initial Value and Y final value.\n",
    "\n",
    "def Excercise1(x,y):\n",
    "    num1 = random.randint(x, y)\n",
    "    return num1"
   ]
  },
  {
   "cell_type": "code",
   "execution_count": 5,
   "id": "d2f4a6d2",
   "metadata": {},
   "outputs": [
    {
     "name": "stdout",
     "output_type": "stream",
     "text": [
      "Insert Initial Value : 2\n",
      "Insert Final Value: 3\n",
      "3\n"
     ]
    }
   ],
   "source": [
    "\n",
    "# Input of values for my last function t1: Initial Value and t2: Final Value\n",
    "\n",
    "t1 = int(input(\"Insert Initial Value : \"))\n",
    "t2 = int(input(\"Insert Final Value: \"))\n",
    "\n",
    "print(Excercise1(t1, t2))"
   ]
  },
  {
   "cell_type": "code",
   "execution_count": 6,
   "id": "01e838a4",
   "metadata": {},
   "outputs": [],
   "source": [
    "#Excercise 2\n",
    "#Random strings from sizes and alphabet\n",
    "\n",
    "def Excercise2(size):\n",
    "    # choose from all lowercase letter\n",
    "    letters = string.ascii_lowercase\n",
    "    result_str = ''.join(random.choice(letters) for i in range(size))\n",
    "    return \"Random string of length\", size, \"is:\", result_str\n"
   ]
  },
  {
   "cell_type": "code",
   "execution_count": 7,
   "id": "5e5c6721",
   "metadata": {},
   "outputs": [
    {
     "name": "stdout",
     "output_type": "stream",
     "text": [
      "Insert a Value: 3\n",
      "('Random string of length', 3, 'is:', 'hch')\n"
     ]
    }
   ],
   "source": [
    "Result = int(input(\"Insert a Value: \"))\n",
    "\n",
    "print(Excercise2(Result))"
   ]
  },
  {
   "cell_type": "code",
   "execution_count": 8,
   "id": "b9267b80",
   "metadata": {},
   "outputs": [
    {
     "name": "stdout",
     "output_type": "stream",
     "text": [
      "The original dictionary is : {'Mario': 1, 'is': 2, 'the': 3, 'best': 4}\n",
      "The random pair is : ('Mario', 1)\n"
     ]
    }
   ],
   "source": [
    "#Excercise 3\n",
    "\n",
    "# Random string choosing from dictionary file\n",
    "\n",
    "# Get random dictionary pair in dictionary\n",
    "# Using random.choice() + list() + items()\n",
    " \n",
    "# Initialize dictionary\n",
    "test_dict = {'Mario' : 1, 'is' : 2, 'the' : 3, 'best' : 4}\n",
    " \n",
    "# printing original dictionary\n",
    "print(\"The original dictionary is : \" + str(test_dict))\n",
    " \n",
    "# Get random dictionary pair in dictionary\n",
    "# Using random.choice() + list() + items()\n",
    "res = key, val = random.choice(list(test_dict.items()))\n",
    " \n",
    "# printing result\n",
    "print(\"The random pair is : \" + str(res))\n",
    "    \n"
   ]
  },
  {
   "cell_type": "code",
   "execution_count": 11,
   "id": "5157a2a8",
   "metadata": {},
   "outputs": [],
   "source": [
    "#Excercise 4\n",
    "\n",
    "#Random sets of IDs within interval\n",
    "\n",
    "def Excercise4(x1,y2,z3):\n",
    "    \n",
    "    for x in range(x1):\n",
    "        print (random.randint(y2, z3))"
   ]
  },
  {
   "cell_type": "code",
   "execution_count": 12,
   "id": "0d7f1106",
   "metadata": {},
   "outputs": [
    {
     "name": "stdout",
     "output_type": "stream",
     "text": [
      "Insert a Value of ID Repetitions: 100\n",
      "Insert initial value for random interval: 2\n",
      "Insert final value for random interval: 100\n",
      "63\n",
      "89\n",
      "36\n",
      "93\n",
      "3\n",
      "71\n",
      "83\n",
      "45\n",
      "99\n",
      "16\n",
      "72\n",
      "92\n",
      "57\n",
      "67\n",
      "8\n",
      "17\n",
      "51\n",
      "12\n",
      "88\n",
      "71\n",
      "36\n",
      "12\n",
      "70\n",
      "61\n",
      "28\n",
      "36\n",
      "38\n",
      "24\n",
      "78\n",
      "32\n",
      "30\n",
      "48\n",
      "55\n",
      "45\n",
      "24\n",
      "7\n",
      "7\n",
      "78\n",
      "58\n",
      "31\n",
      "11\n",
      "33\n",
      "99\n",
      "76\n",
      "49\n",
      "99\n",
      "87\n",
      "42\n",
      "48\n",
      "88\n",
      "29\n",
      "16\n",
      "45\n",
      "39\n",
      "11\n",
      "91\n",
      "91\n",
      "24\n",
      "85\n",
      "53\n",
      "78\n",
      "41\n",
      "41\n",
      "10\n",
      "32\n",
      "9\n",
      "26\n",
      "77\n",
      "73\n",
      "70\n",
      "37\n",
      "24\n",
      "96\n",
      "74\n",
      "53\n",
      "31\n",
      "47\n",
      "25\n",
      "38\n",
      "16\n",
      "21\n",
      "55\n",
      "91\n",
      "12\n",
      "2\n",
      "11\n",
      "35\n",
      "50\n",
      "57\n",
      "77\n",
      "45\n",
      "15\n",
      "11\n",
      "62\n",
      "98\n",
      "67\n",
      "2\n",
      "20\n",
      "3\n",
      "14\n"
     ]
    }
   ],
   "source": [
    "R1 = int(input(\"Insert a Value of ID Repetitions: \"))\n",
    "R2 = int(input(\"Insert initial value for random interval: \"))\n",
    "R3 = int(input(\"Insert final value for random interval: \"))\n",
    "        \n",
    "Excercise4(R1,R2,R3)\n"
   ]
  },
  {
   "cell_type": "code",
   "execution_count": 14,
   "id": "90d4dc7f",
   "metadata": {},
   "outputs": [
    {
     "name": "stdout",
     "output_type": "stream",
     "text": [
      "7PE24M7Xta@yahoo.com\n",
      "AGmnpZw0Id@gmail.com\n",
      "66nBUdguNM@yahoo.com\n",
      "JVcC9H8JfL@aol.com\n",
      "FuTw8kYnkz@aol.com\n"
     ]
    }
   ],
   "source": [
    "#Excercise 5\n",
    "\n",
    "# ○\tRandom sets of strings with some conditions\n",
    "#For example: Random valid emails addresses\n",
    "\n",
    "\n",
    "def Excercise5():\n",
    "    # Define the domain list\n",
    "    domains = [\"gmail.com\", \"yahoo.com\", \"hotmail.com\", \"outlook.com\", \"aol.com\"]\n",
    "    \n",
    "    # Choose a random domain from the list\n",
    "    domain = random.choice(domains)\n",
    "    \n",
    "    # Generate a random string of letters and numbers as the username\n",
    "    username = ''.join(random.choices(string.ascii_letters + string.digits, k=10))\n",
    "    \n",
    "    # Combine the username and domain to form the email address\n",
    "    email = username + \"@\" + domain\n",
    "    \n",
    "    return email\n",
    "\n",
    "# Generate 5 random email addresses\n",
    "for i in range(5):\n",
    "    print(Excercise5())"
   ]
  },
  {
   "cell_type": "code",
   "execution_count": null,
   "id": "9a7fc57a",
   "metadata": {},
   "outputs": [],
   "source": []
  }
 ],
 "metadata": {
  "kernelspec": {
   "display_name": "Python 3 (ipykernel)",
   "language": "python",
   "name": "python3"
  },
  "language_info": {
   "codemirror_mode": {
    "name": "ipython",
    "version": 3
   },
   "file_extension": ".py",
   "mimetype": "text/x-python",
   "name": "python",
   "nbconvert_exporter": "python",
   "pygments_lexer": "ipython3",
   "version": "3.9.7"
  }
 },
 "nbformat": 4,
 "nbformat_minor": 5
}
