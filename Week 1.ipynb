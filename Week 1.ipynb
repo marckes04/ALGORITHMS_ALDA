{
 "cells": [
  {
   "cell_type": "code",
   "execution_count": 1,
   "id": "9132b26f",
   "metadata": {},
   "outputs": [],
   "source": [
    "import pandas"
   ]
  },
  {
   "cell_type": "code",
   "execution_count": 2,
   "id": "eeb92e10",
   "metadata": {},
   "outputs": [],
   "source": [
    "import matplotlib"
   ]
  },
  {
   "cell_type": "code",
   "execution_count": 3,
   "id": "09826864",
   "metadata": {},
   "outputs": [],
   "source": [
    "import random\n",
    "import string"
   ]
  },
  {
   "cell_type": "code",
   "execution_count": 4,
   "id": "4e3b1125",
   "metadata": {},
   "outputs": [],
   "source": [
    "def randomNumber(inicial,final):\n",
    "    return random.randint(inicial, final)\n",
    "    "
   ]
  },
  {
   "cell_type": "code",
   "execution_count": 5,
   "id": "d2f4a6d2",
   "metadata": {},
   "outputs": [
    {
     "name": "stdout",
     "output_type": "stream",
     "text": [
      "Insert Initial Value : 1\n",
      "Insert Final Value: 200\n",
      "20\n"
     ]
    }
   ],
   "source": [
    "i = int(input(\"Insert Initial Value : \"))\n",
    "f = int(input(\"Insert Final Value: \"))\n",
    "\n",
    "print(randomNumber(i, f))"
   ]
  },
  {
   "cell_type": "code",
   "execution_count": 6,
   "id": "01e838a4",
   "metadata": {},
   "outputs": [],
   "source": [
    "def getRandomStringOfLetters(size):\n",
    "    letters = string.ascii_lowercase\n",
    "    return  ''.join(random.choice(letters) for i in range(size))\n",
    "    \n"
   ]
  },
  {
   "cell_type": "code",
   "execution_count": 7,
   "id": "5e5c6721",
   "metadata": {},
   "outputs": [
    {
     "name": "stdout",
     "output_type": "stream",
     "text": [
      "Insert a Value: 4\n",
      "xdov\n"
     ]
    }
   ],
   "source": [
    "result = int(input(\"Insert a Value: \"))\n",
    "print(getRandomStringOfLetters(result))"
   ]
  },
  {
   "cell_type": "code",
   "execution_count": 8,
   "id": "b9267b80",
   "metadata": {},
   "outputs": [
    {
     "name": "stdout",
     "output_type": "stream",
     "text": [
      "The original dictionary is : {'Mario': 1, 'is': 2, 'the': 3, 'best': 4}\n",
      "The random pair is : ('is', 2)\n"
     ]
    }
   ],
   "source": [
    "\n",
    "test_dict = {'Mario' : 1, 'is' : 2, 'the' : 3, 'best' : 4}\n",
    "print(\"The original dictionary is : \" + str(test_dict))\n",
    "res = key, val = random.choice(list(test_dict.items()))\n",
    " \n",
    "print(\"The random pair is : \" + str(res))\n",
    "    \n"
   ]
  },
  {
   "cell_type": "code",
   "execution_count": 9,
   "id": "5157a2a8",
   "metadata": {},
   "outputs": [],
   "source": [
    "def randomId(numero):\n",
    "    randomNumero = set()\n",
    "    while len(randomNumero) < numero:\n",
    "        id = random.randint(1, 100)\n",
    "        randomNumero.add(id)\n",
    "    return randomNumero"
   ]
  },
  {
   "cell_type": "code",
   "execution_count": 10,
   "id": "0d7f1106",
   "metadata": {},
   "outputs": [
    {
     "name": "stdout",
     "output_type": "stream",
     "text": [
      "Insert a Value to generate Id's: 10\n",
      "{32, 97, 98, 66, 72, 11, 79, 84, 88, 27}\n"
     ]
    }
   ],
   "source": [
    "val = int(input(\"Insert a Value to generate Id's: \"))\n",
    "print(randomId(val))\n"
   ]
  },
  {
   "cell_type": "code",
   "execution_count": 12,
   "id": "5962167d",
   "metadata": {},
   "outputs": [
    {
     "name": "stdout",
     "output_type": "stream",
     "text": [
      "['David.Wilson@aol.com', 'Jane.Anderson@gmail.com', 'Michael.Miller@gmail.com', 'James.Brown@yahoo.com', 'David.Davis@outlook.com', 'Jane.Davis@yahoo.com', 'Ava.Johnson@hotmail.com', 'Ava.Davis@gmail.com', 'James.Miller@gmail.com', 'Elizabeth.Moore@yahoo.com']\n"
     ]
    }
   ],
   "source": [
    "first_names = [\"John\", \"Jane\", \"Michael\", \"Emily\", \"David\", \"Sarah\", \"William\", \"Elizabeth\", \"James\", \"Ava\"]\n",
    "last_names = [\"Smith\", \"Johnson\", \"Brown\", \"Davis\", \"Miller\", \"Wilson\", \"Anderson\", \"Taylor\", \"Thomas\", \"Moore\"]\n",
    "domains = [\"gmail.com\", \"yahoo.com\", \"hotmail.com\", \"outlook.com\", \"aol.com\"]\n",
    "\n",
    "\n",
    "def generateRandoEmail():\n",
    "    first_name = random.choice(first_names)\n",
    "    last_name = random.choice(last_names)\n",
    "    domain = random.choice(domains)\n",
    "    email = first_name + \".\" + last_name + \"@\" + domain\n",
    "    return email\n",
    "\n",
    "\n",
    "random_emails = set()\n",
    "while len(random_emails) < 10:\n",
    "    email = generateRandoEmail()\n",
    "    if email not in random_emails:\n",
    "        random_emails.add(email) \n",
    "\n",
    "random_names = list(random_emails)\n",
    "print(random_names)\n"
   ]
  },
  {
   "cell_type": "code",
   "execution_count": 13,
   "id": "9a7fc57a",
   "metadata": {},
   "outputs": [
    {
     "name": "stdout",
     "output_type": "stream",
     "text": [
      "['David.Anderson@colombia.gov.co', 'James.Taylor@colombia.gov.co', 'William.Moore@colombia.gov.co', 'John.Moore@colombia.gov.co', 'Emily.Thomas@colombia.gov.co', 'Jane.Johnson@colombia.gov.co', 'John.Davis@colombia.gov.co', 'Elizabeth.Davis@colombia.gov.co', 'Elizabeth.Anderson@colombia.gov.co', 'William.Miller@colombia.gov.co']\n"
     ]
    }
   ],
   "source": [
    "first_names = [\"John\", \"Jane\", \"Michael\", \"Emily\", \"David\", \"Sarah\", \"William\", \"Elizabeth\", \"James\", \"Ava\"]\n",
    "last_names = [\"Smith\", \"Johnson\", \"Brown\", \"Davis\", \"Miller\", \"Wilson\", \"Anderson\", \"Taylor\", \"Thomas\", \"Moore\"]\n",
    "domains = [\"colombia.gov.co\"]\n",
    "\n",
    "\n",
    "def generateRandoEmail():\n",
    "    first_name = random.choice(first_names)\n",
    "    last_name = random.choice(last_names)\n",
    "    domain = random.choice(domains)\n",
    "    email = first_name + \".\" + last_name + \"@\" + domain\n",
    "    return email\n",
    "\n",
    "\n",
    "random_emails = set()\n",
    "while len(random_emails) < 10:\n",
    "    email = generateRandoEmail()\n",
    "    if email not in random_names:\n",
    "        random_emails.add(email) \n",
    "\n",
    "random_names = list(random_emails)\n",
    "print(random_names)\n"
   ]
  },
  {
   "cell_type": "code",
   "execution_count": null,
   "id": "4377392c",
   "metadata": {},
   "outputs": [],
   "source": []
  }
 ],
 "metadata": {
  "kernelspec": {
   "display_name": "Python 3 (ipykernel)",
   "language": "python",
   "name": "python3"
  },
  "language_info": {
   "codemirror_mode": {
    "name": "ipython",
    "version": 3
   },
   "file_extension": ".py",
   "mimetype": "text/x-python",
   "name": "python",
   "nbconvert_exporter": "python",
   "pygments_lexer": "ipython3",
   "version": "3.9.7"
  }
 },
 "nbformat": 4,
 "nbformat_minor": 5
}
