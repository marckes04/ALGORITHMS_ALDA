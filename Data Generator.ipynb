{
 "cells": [
  {
   "cell_type": "code",
   "execution_count": 1,
   "id": "9132b26f",
   "metadata": {},
   "outputs": [],
   "source": [
    "import pandas"
   ]
  },
  {
   "cell_type": "code",
   "execution_count": 2,
   "id": "eeb92e10",
   "metadata": {},
   "outputs": [],
   "source": [
    "import matplotlib"
   ]
  },
  {
   "cell_type": "code",
   "execution_count": 3,
   "id": "09826864",
   "metadata": {},
   "outputs": [],
   "source": [
    "import random\n",
    "import string\n",
    "import json"
   ]
  },
  {
   "cell_type": "code",
   "execution_count": 4,
   "id": "4e3b1125",
   "metadata": {},
   "outputs": [],
   "source": [
    "def randomNumber(initial,final):\n",
    "    if(initial < final):\n",
    "        return random.randint(initial, final)\n",
    "    else:\n",
    "        return None"
   ]
  },
  {
   "cell_type": "code",
   "execution_count": 5,
   "id": "01e838a4",
   "metadata": {},
   "outputs": [],
   "source": [
    "def getRandomStringOfLetters(size):\n",
    "    letters = string.ascii_lowercase\n",
    "    return  ''.join(random.choice(letters) for i in range(size))"
   ]
  },
  {
   "cell_type": "code",
   "execution_count": 6,
   "id": "b9267b80",
   "metadata": {},
   "outputs": [],
   "source": [
    "def chooseRandomFromFile(fileName):\n",
    "    file = open(fileName, \"r\")\n",
    "    lines = file.readlines()\n",
    "    file.close()\n",
    "    \n",
    "    randomLine = random.randrange(0, len(lines))\n",
    "    \n",
    "    return (lines[randomLine]).strip()"
   ]
  },
  {
   "cell_type": "code",
   "execution_count": 7,
   "id": "5157a2a8",
   "metadata": {},
   "outputs": [],
   "source": [
    "def randomId(idSize: int, minValue: int, maxValue: int):\n",
    "    valueSet = [str(i) for i in range(minValue, maxValue+1)]\n",
    "    \n",
    "    resultId = []\n",
    "    for i in range(idSize):\n",
    "        if(len(valueSet) == 0):\n",
    "            break\n",
    "        randomElement = random.randrange(len(valueSet))\n",
    "\n",
    "        resultId.append(valueSet[randomElement])\n",
    "        valueSet.pop(randomElement)\n",
    "\n",
    "    return resultId\n",
    "\n"
   ]
  },
  {
   "cell_type": "code",
   "execution_count": 8,
   "id": "f5ce7548",
   "metadata": {},
   "outputs": [],
   "source": [
    "def generateRandoEmail():    \n",
    "    \n",
    "    with open(\"names.json\", \"r\") as file:\n",
    "        data1 = json.load(file)\n",
    "\n",
    "\n",
    "    with open(\"lastNames.json\", \"r\") as file:\n",
    "        data2 = json.load(file)\n",
    "    \n",
    "    \n",
    "    with open(\"domains.json\", \"r\") as file:\n",
    "        data3 = json.load(file)\n",
    "\n",
    "    \n",
    "    \n",
    "    indexName = random.randint(0, len(data1) - 1)\n",
    "    indexLastName = random.randint(0, len(data2) - 1)\n",
    "    indexDomain = random.randint(0, len(data3) - 1)\n",
    "\n",
    "    \n",
    "    \n",
    "    item1 = data1[indexName]\n",
    "    item2 = data2[indexLastName]\n",
    "    item3 = data3[indexDomain]\n",
    "\n",
    "\n",
    "\n",
    "    name = item1[\"Name\"]\n",
    "    lastName = item2[\"lastName\"]\n",
    "    domain= item3[\"domain\"]\n",
    "    \n",
    "    email = name + \".\" + lastName + \"@\" + domain\n",
    "    return email\n",
    "\n",
    "\n"
   ]
  },
  {
   "cell_type": "code",
   "execution_count": 9,
   "id": "741e6553",
   "metadata": {},
   "outputs": [],
   "source": [
    "kindOrientation = [\"Calle\", \"Diagonal\",\"Carrera\", \"Transversal\"]\n",
    "additions = [\"A\", \"B\", \"C\", \"D\", \" \"]\n",
    "additions2 = [\"A\", \"B\",\" \"]\n",
    "cordinateOrientation = [\"Norte\",\"Sur\",\"Este\",\"Oeste\", \" \"]\n",
    "\n",
    "def addressGeneration(number):\n",
    "    number1 = str(random.randint(1, 100))\n",
    "    number2 = str(random.randint(1, 100))\n",
    "    number3 = str(random.randint(1, 100))\n",
    "    orientationStreet = random.choice(kindOrientation)\n",
    "    aditional = random.choice(additions)\n",
    "    aditional2 = random.choice(additions2)\n",
    "    coordinate = random.choice(cordinateOrientation)\n",
    "    address = orientationStreet +\" \"+ number1 + aditional + \" \" +\"#\"+ number2 + aditional2 + \" \" + \"-\" + \" \" + number2 + \" \" +coordinate\n",
    "\n",
    "    return address"
   ]
  },
  {
   "cell_type": "code",
   "execution_count": 10,
   "id": "4832d59b",
   "metadata": {},
   "outputs": [
    {
     "name": "stderr",
     "output_type": "stream",
     "text": [
      "..\n",
      "----------------------------------------------------------------------\n",
      "Ran 2 tests in 0.004s\n",
      "\n",
      "OK\n"
     ]
    }
   ],
   "source": [
    "import unittest\n",
    "\n",
    "\n",
    "class IntervalNumberTestClass(unittest.TestCase):\n",
    "    \n",
    "    def assertNumberInInterval(self, minumum, maximum, value):\n",
    "        self.assertTrue(minumum <= value <= maximum)\n",
    "        \n",
    "    def testShouldGetInvalidInterval(self):\n",
    "        number = randomNumber(200, 100)\n",
    "        self.assertEqual(number, None)\n",
    "        \n",
    "    def testShouldGetRandom(self):\n",
    "        number = randomNumber(0, 10)\n",
    "        self.assertNumberInInterval(0, 10, number)\n",
    "        \n",
    "        number_2 = randomNumber(0, 10)\n",
    "        self.assertNumberInInterval(0, 10, number_2)\n",
    "        \n",
    "        number_3 = randomNumber(0, 10)\n",
    "        self.assertNumberInInterval(0, 10, number_3)\n",
    "        \n",
    "    \n",
    "if __name__ == '__main__':\n",
    "    unittest.TextTestRunner().run(unittest.TestLoader().loadTestsFromTestCase(IntervalNumberTestClass))\n"
   ]
  },
  {
   "cell_type": "code",
   "execution_count": 11,
   "id": "1c7f1688",
   "metadata": {},
   "outputs": [
    {
     "name": "stderr",
     "output_type": "stream",
     "text": [
      "..\n",
      "----------------------------------------------------------------------\n",
      "Ran 2 tests in 0.018s\n",
      "\n",
      "OK\n"
     ]
    }
   ],
   "source": [
    "\n",
    "class RandomStringTestClass(unittest.TestCase):\n",
    "\n",
    "    def testShouldGetEmptyString(self):\n",
    "        random_string = getRandomStringOfLetters(0)\n",
    "        self.assertEqual(0, len(random_string))\n",
    "        \n",
    "    def test_should_return_exact_length(self):\n",
    "        random_string = getRandomStringOfLetters(5)\n",
    "        self.assertEqual(5, len(random_string))\n",
    "        \n",
    "        random_string = getRandomStringOfLetters(10)\n",
    "        self.assertEqual(10, len(random_string))\n",
    "        \n",
    "        random_string = getRandomStringOfLetters(1000)\n",
    "        self.assertEqual(1000, len(random_string))\n",
    "                         \n",
    "                         \n",
    "        \n",
    "if __name__ == '__main__':\n",
    "    unittest.TextTestRunner().run(unittest.TestLoader().loadTestsFromTestCase(RandomStringTestClass))"
   ]
  },
  {
   "cell_type": "code",
   "execution_count": 12,
   "id": "cf3b7c70",
   "metadata": {},
   "outputs": [
    {
     "name": "stderr",
     "output_type": "stream",
     "text": [
      "..\n",
      "----------------------------------------------------------------------\n",
      "Ran 2 tests in 0.003s\n",
      "\n",
      "OK\n"
     ]
    }
   ],
   "source": [
    "class RandomIDTestClass(unittest.TestCase):\n",
    "    \n",
    "    def testShouldReturnEmptyId(self):\n",
    "        createRandomId = randomId(0, 1, 2)\n",
    "        self.assertEqual(0, len(createRandomId))\n",
    "        \n",
    "    def testShouldReturnMinResult(self):\n",
    "        createRandomId = randomId(10, 1, 2)\n",
    "        self.assertEqual(2, len(createRandomId))\n",
    "        \n",
    "\n",
    "if __name__ == \"__main__\":\n",
    "    unittest.TextTestRunner().run(unittest.TestLoader().loadTestsFromTestCase(RandomIDTestClass))"
   ]
  },
  {
   "cell_type": "code",
   "execution_count": 15,
   "id": "edb8cda3",
   "metadata": {},
   "outputs": [
    {
     "name": "stderr",
     "output_type": "stream",
     "text": [
      ".\n",
      "----------------------------------------------------------------------\n",
      "Ran 1 test in 0.028s\n",
      "\n",
      "OK\n"
     ]
    }
   ],
   "source": [
    "class TestGenerateRandoEmail(unittest.TestCase):\n",
    "    \n",
    "    def testGenerateRandoEmail(self):\n",
    "        email = generateRandoEmail()\n",
    "        self.assertRegex(email, r'^\\w+\\.\\w+@\\w+\\.\\w+$')\n",
    "        \n",
    "if __name__ == \"__main__\":\n",
    "    unittest.TextTestRunner().run(unittest.TestLoader().loadTestsFromTestCase(TestGenerateRandoEmail))"
   ]
  },
  {
   "cell_type": "code",
   "execution_count": 16,
   "id": "a8f83adf",
   "metadata": {},
   "outputs": [
    {
     "name": "stderr",
     "output_type": "stream",
     "text": [
      ".\n",
      "----------------------------------------------------------------------\n",
      "Ran 1 test in 0.004s\n",
      "\n",
      "OK\n"
     ]
    }
   ],
   "source": [
    "class TestAddressGeneration(unittest.TestCase):\n",
    "    \n",
    "    def testAddressGeneration(self):\n",
    "        address = addressGeneration(1)\n",
    "        self.assertRegex(address, r'^\\w+ \\d+[A-D]? #\\d+[A-B]? - \\d+ \\w+$')\n",
    "        \n",
    "if __name__ == \"__main__\":\n",
    "    unittest.TextTestRunner().run(unittest.TestLoader().loadTestsFromTestCase(TestAddressGeneration))"
   ]
  },
  {
   "cell_type": "code",
   "execution_count": 20,
   "id": "80468640",
   "metadata": {},
   "outputs": [
    {
     "name": "stderr",
     "output_type": "stream",
     "text": [
      ".\n",
      "----------------------------------------------------------------------\n",
      "Ran 1 test in 0.003s\n",
      "\n",
      "OK\n"
     ]
    }
   ],
   "source": [
    "class TestChooseRandomFromFile(unittest.TestCase):\n",
    "    def testThrowsNames(self):\n",
    "        result = chooseRandomFromFile('names.json')\n",
    "        self.assertIsInstance(result, str)\n",
    "        self.assertGreater(len(result), 0)\n",
    "\n",
    "    def testThrowsLastNames(self):\n",
    "        with self.assertRaises(FileNotFoundError):\n",
    "            chooseRandomFromFile('lastNames.json')\n",
    "if __name__ == \"__main__\":\n",
    "    unittest.TextTestRunner().run(unittest.TestLoader().loadTestsFromTestCase(TestAddressGeneration))"
   ]
  },
  {
   "cell_type": "code",
   "execution_count": null,
   "id": "3f830c7d",
   "metadata": {},
   "outputs": [],
   "source": []
  }
 ],
 "metadata": {
  "kernelspec": {
   "display_name": "Python 3 (ipykernel)",
   "language": "python",
   "name": "python3"
  },
  "language_info": {
   "codemirror_mode": {
    "name": "ipython",
    "version": 3
   },
   "file_extension": ".py",
   "mimetype": "text/x-python",
   "name": "python",
   "nbconvert_exporter": "python",
   "pygments_lexer": "ipython3",
   "version": "3.9.7"
  }
 },
 "nbformat": 4,
 "nbformat_minor": 5
}
